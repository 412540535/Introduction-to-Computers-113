{
  "nbformat": 4,
  "nbformat_minor": 0,
  "metadata": {
    "colab": {
      "provenance": [],
      "authorship_tag": "ABX9TyNdUTS/x8g4fr3oanO2be2s",
      "include_colab_link": true
    },
    "kernelspec": {
      "name": "python3",
      "display_name": "Python 3"
    },
    "language_info": {
      "name": "python"
    }
  },
  "cells": [
    {
      "cell_type": "markdown",
      "metadata": {
        "id": "view-in-github",
        "colab_type": "text"
      },
      "source": [
        "<a href=\"https://colab.research.google.com/github/412540535/Introduction-to-Computers-113/blob/main/0508.ipynb\" target=\"_parent\"><img src=\"https://colab.research.google.com/assets/colab-badge.svg\" alt=\"Open In Colab\"/></a>"
      ]
    },
    {
      "cell_type": "code",
      "source": [
        "score = int(input(\"請輸入體溫：\"))\n",
        "if (score >= 37.5):\n",
        "  print('體溫過高')\n",
        "elif (score >= 37):\n",
        "  print('體溫略高')\n",
        "elif (score >= 34):\n",
        "  print('體溫正常')\n",
        "else :\n",
        "  print('體溫異常，請重新量測！')"
      ],
      "metadata": {
        "colab": {
          "base_uri": "https://localhost:8080/"
        },
        "id": "sT1YW7h-ofzS",
        "outputId": "f846b6e6-1369-4a82-cf2c-9ddaece6f8f2"
      },
      "execution_count": 9,
      "outputs": [
        {
          "output_type": "stream",
          "name": "stdout",
          "text": [
            "請輸入體溫：37\n",
            "體溫略高\n"
          ]
        }
      ]
    },
    {
      "cell_type": "code",
      "source": [
        "score = int(input(\"請輸入資概成績：\"))\n",
        "if (score >= 90):\n",
        "  print('A')\n",
        "elif (score >= 80):\n",
        "  print('B')\n",
        "elif (score >= 70):\n",
        "  print('C')\n",
        "elif (score >= 60):\n",
        "  print('D')\n",
        "else :\n",
        "  print('E')"
      ],
      "metadata": {
        "colab": {
          "base_uri": "https://localhost:8080/"
        },
        "id": "pKWYypNMnbXL",
        "outputId": "1b0fa2e6-10bf-44f1-d26a-ec1883681bf3"
      },
      "execution_count": 3,
      "outputs": [
        {
          "output_type": "stream",
          "name": "stdout",
          "text": [
            "請輸入茲蓋成績：55\n",
            "E\n"
          ]
        }
      ]
    },
    {
      "cell_type": "code",
      "execution_count": 1,
      "metadata": {
        "colab": {
          "base_uri": "https://localhost:8080/"
        },
        "id": "e-e2rcVInSTi",
        "outputId": "e5a1a26b-6f92-4fca-ea3a-7a2d48750e9a"
      },
      "outputs": [
        {
          "output_type": "stream",
          "name": "stdout",
          "text": [
            "3\n",
            "spring\n"
          ]
        }
      ],
      "source": [
        "month =int(input())\n",
        "if(month >= 1 and month <= 12):\n",
        "   if(month==1 or month==2 or month==3):\n",
        "       print('spring')\n",
        "   elif(month==4 or month==5 or month==6):\n",
        "       print('summer')\n",
        "   elif(month==7 or month==8 or month==9):\n",
        "       print('spring')\n",
        "   else:\n",
        "       print('winter')\n",
        "else:\n",
        "   print('Input Error')"
      ]
    }
  ]
}